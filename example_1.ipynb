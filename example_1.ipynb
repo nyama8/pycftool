{
 "cells": [
  {
   "cell_type": "code",
   "execution_count": 1,
   "metadata": {},
   "outputs": [],
   "source": [
    "%matplotlib widget\n",
    "\n",
    "import pycftool as cft\n",
    "\n",
    "import numpy as np\n",
    "import matplotlib.pyplot as plt"
   ]
  },
  {
   "cell_type": "code",
   "execution_count": 2,
   "metadata": {},
   "outputs": [],
   "source": [
    "lorentzian_p1 = cft.Lorentzian_p1()\n",
    "\n",
    "x = np.linspace(0,10,1000)\n",
    "y = np.random.normal(scale=0.05, size=(1000)) \n",
    "y = y + lorentzian_p1.f(x, *[3, 0.3, 0.04, 0.1, 0.04]) \n",
    "y = y + lorentzian_p1.f(x, *[2, 2.7, 0.05, 0, 0])\n",
    "y = y + lorentzian_p1.f(x, *[2, 5.2, 0.01, 0, 0])\n",
    "y = y + lorentzian_p1.f(x, *[2, 8.3, 0.1, 0, 0])"
   ]
  },
  {
   "cell_type": "code",
   "execution_count": 3,
   "metadata": {
    "scrolled": false
   },
   "outputs": [
    {
     "data": {
      "application/vnd.jupyter.widget-view+json": {
       "model_id": "",
       "version_major": 2,
       "version_minor": 0
      },
      "text/plain": [
       "VBox(children=(HBox(children=(VBox(children=(Label(value='Control box'), Button(description='Fit data in range…"
      ]
     },
     "metadata": {},
     "output_type": "display_data"
    }
   ],
   "source": [
    "b = cft.CFTool(fit_models=[cft.Lorentzian_p1(), cft.Lorentzian_p2()],\n",
    "               data_x = x,\n",
    "               data_y = y,\n",
    "               fit_class = cft.ResonanceFit1,\n",
    "               metadata = {'name': 'example_1'} \n",
    "              )"
   ]
  },
  {
   "cell_type": "code",
   "execution_count": 4,
   "metadata": {},
   "outputs": [],
   "source": [
    "b.close()"
   ]
  },
  {
   "cell_type": "code",
   "execution_count": 5,
   "metadata": {},
   "outputs": [],
   "source": [
    "from load_spe import load_SPE"
   ]
  },
  {
   "cell_type": "code",
   "execution_count": 6,
   "metadata": {},
   "outputs": [],
   "source": [
    "spectrum = load_SPE('./data/test_spectra.SPE')"
   ]
  },
  {
   "cell_type": "code",
   "execution_count": 7,
   "metadata": {},
   "outputs": [
    {
     "data": {
      "application/vnd.jupyter.widget-view+json": {
       "model_id": "47815e1aa3ad4739af226f132eba8a35",
       "version_major": 2,
       "version_minor": 0
      },
      "text/plain": [
       "Canvas(toolbar=Toolbar(toolitems=[('Home', 'Reset original view', 'home', 'home'), ('Back', 'Back to previous …"
      ]
     },
     "metadata": {},
     "output_type": "display_data"
    }
   ],
   "source": [
    "spectrum.quick_plot()"
   ]
  },
  {
   "cell_type": "code",
   "execution_count": 8,
   "metadata": {},
   "outputs": [
    {
     "name": "stdout",
     "output_type": "stream",
     "text": [
      "Loading from spectrum object...\n"
     ]
    },
    {
     "data": {
      "application/vnd.jupyter.widget-view+json": {
       "model_id": "637ec2a95cea41eeae0e345d8a6ce9fd",
       "version_major": 2,
       "version_minor": 0
      },
      "text/plain": [
       "VBox(children=(HBox(children=(VBox(children=(Label(value='Control box'), Button(description='Fit data in range…"
      ]
     },
     "metadata": {},
     "output_type": "display_data"
    },
    {
     "name": "stdout",
     "output_type": "stream",
     "text": [
      "Searching for peaks...\n",
      "Peaks found!\n",
      "Searching for peaks...\n",
      "Peaks found!\n",
      "Finished!\n"
     ]
    }
   ],
   "source": [
    "b = cft.CFTool(fit_models=[cft.Lorentzian_p1(), cft.Lorentzian_p2()],\n",
    "               fit_class = cft.ResonanceFit1,\n",
    "               spectrum = spectrum\n",
    "              )"
   ]
  },
  {
   "cell_type": "code",
   "execution_count": 10,
   "metadata": {},
   "outputs": [],
   "source": [
    "results = cft.open_results('fit_results_test_spectra.p')"
   ]
  },
  {
   "cell_type": "code",
   "execution_count": 14,
   "metadata": {},
   "outputs": [
    {
     "name": "stdout",
     "output_type": "stream",
     "text": [
      "11.734064552175163\n",
      "2844.9617151127795\n",
      "10337.785711795597\n",
      "14614.130385473427\n",
      "8802.749153947714\n",
      "13700.799426819536\n",
      "8999.340535072168\n",
      "7171.61424535612\n",
      "12235.567281459698\n",
      "11778.292818185122\n",
      "8427.983968674414\n",
      "9813.984420365661\n",
      "8283.9341632876\n",
      "6988.7020656949835\n",
      "6277.439246949173\n"
     ]
    }
   ],
   "source": [
    "for fit in results['fits']:\n",
    "    print(fit.Q)"
   ]
  },
  {
   "cell_type": "code",
   "execution_count": null,
   "metadata": {},
   "outputs": [],
   "source": []
  }
 ],
 "metadata": {
  "kernelspec": {
   "display_name": "Python 3",
   "language": "python",
   "name": "python3"
  },
  "language_info": {
   "codemirror_mode": {
    "name": "ipython",
    "version": 3
   },
   "file_extension": ".py",
   "mimetype": "text/x-python",
   "name": "python",
   "nbconvert_exporter": "python",
   "pygments_lexer": "ipython3",
   "version": "3.7.4"
  }
 },
 "nbformat": 4,
 "nbformat_minor": 2
}
